{
 "cells": [
  {
   "cell_type": "markdown",
   "id": "dc32f967-af63-435f-985c-26322bcb6dea",
   "metadata": {},
   "source": [
    "# Cars Sold in Germany From 2018 to 2021 (Analytic Study)"
   ]
  },
  {
   "cell_type": "markdown",
   "id": "4d53a7f3-80fa-4716-b71a-fd21d56419f0",
   "metadata": {},
   "source": [
    "## Introduction"
   ]
  },
  {
   "cell_type": "markdown",
   "id": "565ef20a-e5b1-451d-8f7c-553421a2a28d",
   "metadata": {},
   "source": [
    "The Car Market is Very Intersting To Analyise Because of the variation in Customers Needs and how each car brand \n",
    "try to fill the needs , So When We look in car sales Report We Can determine Which cars Sold the Most and Why... \n",
    "When We Answer This Questions That Will Helps The Cars Manufacturers To Focus On Producing Cars That Suitable For The \n",
    "Customers!"
   ]
  },
  {
   "cell_type": "markdown",
   "id": "9c1ad5be-b3a3-4b96-918a-10ea16504a73",
   "metadata": {},
   "source": [
    "### The Data Set Used For This Study "
   ]
  },
  {
   "cell_type": "markdown",
   "id": "2eed7268-8074-41ee-977d-fc26bb9e6645",
   "metadata": {},
   "source": [
    "Germany Cars Dataset From Kaggle ->\n",
    "Dataset scraped from AutoScout24 with information about new and used cars In Germany.\n"
   ]
  },
  {
   "cell_type": "markdown",
   "id": "34229337-34a9-4e23-a07d-6c34baa26b75",
   "metadata": {},
   "source": [
    "The Link For DataSet : https://www.kaggle.com/datasets/ander289386/cars-germany"
   ]
  },
  {
   "cell_type": "markdown",
   "id": "83ac08b6-4e35-4407-8839-6cb1d8dc6112",
   "metadata": {},
   "source": [
    "### About The DataSet"
   ]
  },
  {
   "cell_type": "markdown",
   "id": "fec378f6-0506-4ff4-b47a-e70656b084aa",
   "metadata": {},
   "source": [
    "The Data is Structured as Table in CSV File "
   ]
  },
  {
   "cell_type": "markdown",
   "id": "212e0b4f-3ed9-45c7-8533-963c849e375f",
   "metadata": {},
   "source": [
    "There are **9 features** describing **46405 vehicles** for sale in Germany, registration year being from **2011 to 2021**"
   ]
  },
  {
   "cell_type": "markdown",
   "id": "dc183057-3324-4da6-b4d4-f868c9428a80",
   "metadata": {},
   "source": [
    "**The Features are :** make, model , mileage , fuel , horse power , price , offertype , gear , year "
   ]
  },
  {
   "cell_type": "markdown",
   "id": "fdcc5e31-00e0-4757-9971-d4f1cc2c6759",
   "metadata": {},
   "source": [
    "### Tools Used For The Study"
   ]
  },
  {
   "cell_type": "markdown",
   "id": "0b5baa61-2d94-4de9-8d07-2474a590cc6b",
   "metadata": {},
   "source": [
    "- Google Spread Sheet : For Showing The Data And Some Basic Editing\n",
    "- SQL Server \n",
    "- SQL Server Managment System : Apply Queries To Clean and Get Insights\n",
    "- Power BI : To Visual The Insights And Building The Dashboard"
   ]
  },
  {
   "cell_type": "markdown",
   "id": "c5c98f72-56c7-4678-9a16-511958751510",
   "metadata": {},
   "source": [
    "### What This Study Should Answer"
   ]
  },
  {
   "cell_type": "markdown",
   "id": "7585cbde-12b6-43fe-a600-d148382ac966",
   "metadata": {},
   "source": [
    "When Studying The Data Provided I came Up With This Questions That Should Be Answered :"
   ]
  },
  {
   "cell_type": "markdown",
   "id": "d3320a99-77f3-4081-beb9-0983c63dcc08",
   "metadata": {},
   "source": [
    "1. What Are The TOP 10 Car Brands Base On There Sales ?\n",
    "2. How Each Car Brand From The Previous Question Makes Up For Overall Sales And What is The Average Price For the Cars ?\n",
    "3. What Are The Top Models Sold For Each Brand ?\n",
    "4. Which OfferType Make The Most For Cars Sold ?\n",
    "5. Which Gear Make The Most For Cars Sold ?\n",
    "6. What is The Link Between The OfferType and Gear For The Brands and Models ?"
   ]
  },
  {
   "cell_type": "markdown",
   "id": "720a702f-c70d-4d12-bdb8-290db3d94df7",
   "metadata": {},
   "source": [
    "**This Questions Should Give Insights About The Overall Data Which Will Give Space To Answer More Questions In Progress**"
   ]
  },
  {
   "cell_type": "markdown",
   "id": "4678823a-b7e8-40a0-bbd6-2b8e916dc59b",
   "metadata": {},
   "source": [
    "## Basic Tweaking For The Data"
   ]
  },
  {
   "cell_type": "markdown",
   "id": "91875fe4-72aa-45b6-be8f-b00a4b6fda43",
   "metadata": {},
   "source": [
    "![rowsingooglespread](img\rwsps.png)"
   ]
  },
  {
   "cell_type": "markdown",
   "id": "609cc7b5-0774-4e87-b518-3c19f8206964",
   "metadata": {},
   "source": [
    "At First Glance We Can Show The Features But We Have Small Problem (The Rows Not Have ID'S For Indexing \n",
    "Which We Can Solve it When Loading To The Data Base Table)"
   ]
  },
  {
   "cell_type": "markdown",
   "id": "8c3da861-4bfc-4eec-908c-4eadd48323b1",
   "metadata": {},
   "source": [
    "## Data Storing And Cleaning "
   ]
  },
  {
   "cell_type": "markdown",
   "id": "91774651-69ef-4124-a20e-b111448276b0",
   "metadata": {},
   "source": [
    "### **1. Store The Data In The Database**"
   ]
  },
  {
   "cell_type": "markdown",
   "id": "eadc719f-0005-440e-8432-10bedd88f9b5",
   "metadata": {},
   "source": [
    "As We Know The CSV File Not Have ID Column So When Importing The Data Will Imported To Table Without The Column"
   ]
  },
  {
   "cell_type": "markdown",
   "id": "5ef335bd-40ad-49e4-84a1-112cc0d634c2",
   "metadata": {},
   "source": [
    "**To Solve This We Can Use This Query To add The Column req_id to The Table:**"
   ]
  },
  {
   "cell_type": "markdown",
   "id": "5e0f4671-d541-4a0a-bde0-fd12a837494a",
   "metadata": {},
   "source": [
    "    ALTER TABLE car_sales ADD req_id INT IDENTITY(1,1) PRIMARY KEY;\n"
   ]
  },
  {
   "cell_type": "markdown",
   "id": "fd029c5f-1eb1-42c8-8db1-72f42077ee0a",
   "metadata": {},
   "source": [
    "![reqidwrongpos](/img/reqidwrongpos.png)"
   ]
  },
  {
   "cell_type": "markdown",
   "id": "688de114-7475-4847-b662-644f55551808",
   "metadata": {},
   "source": [
    "** Note That The req_id not in the right Position and it is Not The Primary Key"
   ]
  },
  {
   "cell_type": "markdown",
   "id": "14fab963-1783-4334-824b-aedcab5b6855",
   "metadata": {},
   "source": [
    "For Solving This Problem We Can Create New Table add Constraints , Define Primary Key And Order The Columns In Meaningful Way"
   ]
  },
  {
   "cell_type": "markdown",
   "id": "cd099b62-07bf-4d7d-ba1d-e5ca83b654f9",
   "metadata": {},
   "source": [
    "The Queries For Creating Inserting Drop And Change Name:"
   ]
  },
  {
   "cell_type": "markdown",
   "id": "a3603a42-c324-4e9b-8e56-99d2c3903a55",
   "metadata": {},
   "source": [
    "\n",
    "    CREATE TABLE car_sales_new (\n",
    "        req_id INT IDENTITY(1,1) PRIMARY KEY,\n",
    "        make VARCHAR(50) NULL,\n",
    "        model VARCHAR(50) NULL,\n",
    "        year SMALLINT NULL,\n",
    "        mileage INT NULL,\n",
    "        fuel VARCHAR(50) NULL,\n",
    "        gear VARCHAR(50) NULL,\n",
    "        hp SMALLINT NULL,\n",
    "        offertype VARCHAR(50) NULL,\n",
    "        price INT NULL\n",
    "    );\n"
   ]
  },
  {
   "cell_type": "markdown",
   "id": "45214c81-02ec-4967-9f05-b23e53c35e47",
   "metadata": {},
   "source": [
    "    INSERT INTO car_sales_new (req_id, make, model, year, mileage, fuel, gear, hp, offertype, price)\n",
    "    SELECT req_id, make, model, year, mileage, fuel, gear, hp, offertype, price FROM car_sales;\n",
    "\n"
   ]
  },
  {
   "cell_type": "markdown",
   "id": "89f344f6-a114-4e87-8c2a-057bc187a2db",
   "metadata": {},
   "source": [
    "    DROP TABLE car_sales;\n",
    "\n"
   ]
  },
  {
   "cell_type": "markdown",
   "id": "366da1c1-a081-49de-b37d-5c3e6719e0e1",
   "metadata": {},
   "source": [
    "    EXEC sp_rename 'car_sales_new', 'car_sales';\n"
   ]
  },
  {
   "cell_type": "markdown",
   "id": "eb8d847d-0a04-4f0b-83c8-7cf9253aeb50",
   "metadata": {},
   "source": [
    "![columninright](img/columninright.png)"
   ]
  },
  {
   "cell_type": "markdown",
   "id": "d9cc0de7-2a4e-4755-9c1b-5b6207eb3eaf",
   "metadata": {},
   "source": [
    "Now We Can Study The Data"
   ]
  },
  {
   "cell_type": "markdown",
   "id": "b4614868-da4c-41ee-98d3-b5863ac50e1a",
   "metadata": {},
   "source": [
    "Count Null Values "
   ]
  },
  {
   "cell_type": "markdown",
   "id": "e52bf3c8-00dd-46e6-b313-43db412ce923",
   "metadata": {},
   "source": [
    "    SELECT COUNT(*) AS Null_Row_Count\n",
    "    FROM car_sales\n",
    "    WHERE mileage IS NULL \n",
    "       OR make IS NULL \n",
    "       OR model IS NULL \n",
    "       OR fuel IS NULL \n",
    "       OR gear IS NULL \n",
    "       OR offertype IS NULL \n",
    "       OR price IS NULL \n",
    "       OR hp IS NULL \n",
    "       OR year IS NULL;\n"
   ]
  },
  {
   "cell_type": "markdown",
   "id": "bab41b72-c745-4907-97e5-e33e656bdf37",
   "metadata": {},
   "source": [
    "**Number Of Rows Contains Null Values : 334** Which Present 0.719 % From All Data"
   ]
  },
  {
   "cell_type": "markdown",
   "id": "b4f29545-962e-4550-a887-2801aaf65bfa",
   "metadata": {},
   "source": [
    "**Note : The Study Focus On 3 Years Only So if We Limit By Year Using \n"
   ]
  },
  {
   "cell_type": "markdown",
   "id": "3440555d-40e2-4066-9737-3414f46993cd",
   "metadata": {},
   "source": [
    "SELECT Count (*)  \n",
    "    FROM car_sales  \n",
    "    WHERE CAST(year AS SMALLINT) >= (SELECT MAX(CAST(year AS SMALLINT)) FROM car_sales) - 1;"
   ]
  },
  {
   "cell_type": "markdown",
   "id": "dbfd3c34-af32-4bae-916f-7a6f5bc40556",
   "metadata": {},
   "source": [
    "**The Size Of Data Sample is : 8467**"
   ]
  },
  {
   "cell_type": "markdown",
   "id": "5facef56-60a6-4b87-99b3-40f91b378c6c",
   "metadata": {},
   "source": [
    "**The Rows Contain Null Values : 62** Which Present 0.73% From all Data"
   ]
  },
  {
   "cell_type": "markdown",
   "id": "d244b273-39c9-4340-a43c-7c9dae030ebb",
   "metadata": {},
   "source": [
    "and We Found That The Majority Of The Rows That Contains Null Are in The Model And Gear"
   ]
  },
  {
   "cell_type": "markdown",
   "id": "020f6be0-8932-464c-a492-bcedb4b824ad",
   "metadata": {},
   "source": [
    "When Using This Query :"
   ]
  },
  {
   "cell_type": "markdown",
   "id": "a20cd1f9-3031-48fd-ae19-104f54432feb",
   "metadata": {},
   "source": [
    "    SELECT make, COUNT(*)  AS nulls\n",
    "    FROM car_sales  \n",
    "    WHERE CAST(year AS SMALLINT) >= (SELECT MAX(CAST(year AS SMALLINT)) FROM car_sales) - 1 \n",
    "      AND (\n",
    "        mileage IS NULL \n",
    "        OR make IS NULL \n",
    "        OR model IS NULL \n",
    "        OR fuel IS NULL \n",
    "        OR gear IS NULL \n",
    "        OR offertype IS NULL \n",
    "        OR price IS NULL \n",
    "        OR hp IS NULL \n",
    "        OR year IS NULL\n",
    "      )Group by make ORDER BY nulls DESC;"
   ]
  },
  {
   "cell_type": "markdown",
   "id": "fe4fd552-dded-4548-ab8d-3bffde819562",
   "metadata": {},
   "source": [
    "We Found That The Best Approach Is To Delete Rows Have Null Values it Will Not Effect The Study"
   ]
  },
  {
   "cell_type": "markdown",
   "id": "41f17b15-f559-4cc8-8910-c62823745168",
   "metadata": {},
   "source": [
    "#### 2. Create A View To Process The Data ( Not Effecting The Original Data ) "
   ]
  },
  {
   "cell_type": "markdown",
   "id": "3a0ef55d-0fad-4335-8e47-3856119b0c56",
   "metadata": {},
   "source": [
    "    CREATE OR ALTER VIEW car_post_process AS  \n",
    "    SELECT  \n",
    "        req_id,  \n",
    "        mileage,  \n",
    "        make,  \n",
    "        model,  \n",
    "        fuel,  \n",
    "        gear,  \n",
    "        offertype,  \n",
    "        price,  \n",
    "        hp,  \n",
    "        CAST(year AS SMALLINT) AS sale_year  \n",
    "    FROM car_sales Where CAST(year AS SMALLINT) >= (SELECT MAX(CAST(year AS SMALLINT)) FROM car_sales) - 3 ;\n"
   ]
  },
  {
   "cell_type": "markdown",
   "id": "e7c902e4-397a-48ca-9621-7547d9796952",
   "metadata": {},
   "source": [
    "Create The View With 3 Years Span"
   ]
  },
  {
   "cell_type": "markdown",
   "id": "f00d1162-e2ea-4891-be87-02926454c118",
   "metadata": {},
   "source": [
    "**Drop The Rows Contains Null**"
   ]
  },
  {
   "cell_type": "markdown",
   "id": "113f491d-7e31-4301-8aab-9c3b943d5ee3",
   "metadata": {},
   "source": [
    "### Top 10 car sold Brand Base On The Cars_Sold and Total Revenue\n"
   ]
  },
  {
   "cell_type": "markdown",
   "id": "6fb52c6f-d84a-4a9a-94d9-04c9b26c0ec4",
   "metadata": {},
   "source": [
    "    SELECT TOP(10)\n",
    "        make, COUNT(*) AS cars_sold ,\n",
    "        SUM(car_price) AS total_sales,\n",
    "        ROUND( (SUM(car_price) * 100.0) / (SELECT SUM(car_price) FROM car_post_process), 2) AS \n",
    "        percentage_of_total_revenue  \n",
    "        FROM car_post_process \n",
    "        GROUP BY make  \n",
    "        ORDER BY total_sales DESC;"
   ]
  },
  {
   "cell_type": "markdown",
   "id": "3c4331fa-11b2-48f0-aadd-b1991db3e62b",
   "metadata": {},
   "source": [
    "![top10brands](img/top10brands.png)"
   ]
  },
  {
   "cell_type": "markdown",
   "id": "8f2fe0d9-94be-4567-861e-29ab9d843f9d",
   "metadata": {},
   "source": [
    "### What Are The Top Models Sold For Each Brand ?\n",
    "\n"
   ]
  },
  {
   "cell_type": "markdown",
   "id": "ec8fe3e1-e21d-4596-946a-8d477dcf9414",
   "metadata": {},
   "source": [
    "    SELECT \n",
    "        make,  \n",
    "        model,  \n",
    "        COUNT(*) AS cars_sold  \n",
    "    FROM car_post_process  \n",
    "    WHERE make IN ('Volkswagen', 'Audi', 'Ford', 'Mercedes-Benz', 'Skoda', 'Renault', 'Hyundai', 'BMW', 'Opel', 'SEAT')  \n",
    "    GROUP BY make, model  \n",
    "    ORDER BY make, cars_sold DESC;\n"
   ]
  },
  {
   "cell_type": "markdown",
   "id": "b1cfd5c6-46e9-4d4c-8eab-fd9503a80d61",
   "metadata": {},
   "source": [
    "    make\tmodel\tcars_sold\n",
    "    Audi\tA3\t65\n",
    "    Audi\tA4\t65\n",
    "    Audi\tQ3\t55\n",
    "    Audi\tA6\t46\n",
    "    Audi\tQ2\t37\n",
    "    BMW\t320\t19\n",
    "    BMW\t520\t19\n",
    "    BMW\t530\t15\n",
    "    BMW\t330\t14\n",
    "    BMW\tX1\t13\n",
    "    Ford\tFiesta\t223\n",
    "    Ford\tFocus\t181\n",
    "    Ford\tKuga\t116\n",
    "    Ford\tPuma\t112\n",
    "    Ford\tEcoSport\t60\n",
    "    Hyundai\ti10\t147\n",
    "    Hyundai\ti30\t107\n",
    "    Hyundai\ti20\t92\n",
    "    Hyundai\tTucson\t71\n",
    "    Hyundai\tKona\t53\n",
    "    Mercedes-Benz\tC 180\t27\n",
    "    Mercedes-Benz\tVito\t21\n",
    "    Mercedes-Benz\tC 200\t17\n",
    "    Mercedes-Benz\tC 220\t17\n",
    "    Mercedes-Benz\tA 180\t16\n",
    "    Opel\tCorsa\t258\n",
    "    Opel\tAstra\t60\n",
    "    Opel\tMokka\t58\n",
    "    Opel\tCrossland X\t36\n",
    "    Opel\tCombo\t23\n",
    "    Renault\tClio\t199\n",
    "    Renault\tTwingo\t174\n",
    "    Renault\tCaptur\t58\n",
    "    Renault\tMegane\t50\n",
    "    Renault\tZOE\t38\n",
    "    SEAT\tLeon\t128\n",
    "    SEAT\tIbiza\t92\n",
    "    SEAT\tAteca\t57\n",
    "    SEAT\tArona\t57\n",
    "    SEAT\tTarraco\t21\n",
    "    Skoda\tFabia\t295\n",
    "    Skoda\tOctavia\t133\n",
    "    Skoda\tKamiq\t79\n",
    "    Skoda\tScala\t60\n",
    "    Skoda\tKaroq\t48\n",
    "    Volkswagen\tGolf\t190\n",
    "    Volkswagen\tTiguan\t153\n",
    "    Volkswagen\tPolo\t102\n",
    "    Volkswagen\tT-Roc\t100\n",
    "    Volkswagen\tT-Cross\t74"
   ]
  },
  {
   "cell_type": "markdown",
   "id": "b5da9154-b1df-4563-ad03-51ea9eeb9496",
   "metadata": {},
   "source": [
    "### Which OfferType Make The Most For Cars Sold ?\n"
   ]
  },
  {
   "cell_type": "markdown",
   "id": "e3b189ba-514e-47ae-9cb8-125ebcf46dc2",
   "metadata": {},
   "source": [
    "    SELECT  \n",
    "        offer_type,  \n",
    "        COUNT(*) AS total_cars_sold  \n",
    "    FROM car_post_process  \n",
    "    GROUP BY offer_type  \n",
    "    ORDER BY total_cars_sold DESC;"
   ]
  },
  {
   "cell_type": "markdown",
   "id": "fc5f9185-691b-4391-8d54-aa9b12ab35ad",
   "metadata": {},
   "source": [
    "![offertype](img/offertype.png)"
   ]
  },
  {
   "cell_type": "markdown",
   "id": "4c9a499b-9f4f-4280-9d6c-88d9c16c4084",
   "metadata": {},
   "source": [
    "### Which OfferType Make The Most For Cars Sold By Brand ? \n"
   ]
  },
  {
   "cell_type": "markdown",
   "id": "47468cb8-00d5-47a7-8840-0446e8140b03",
   "metadata": {},
   "source": [
    "    SELECT  \n",
    "        make,  \n",
    "        offer_type,  \n",
    "        COUNT(*) AS total_cars_sold  \n",
    "    FROM car_post_process  \n",
    "    WHERE make IN ('Volkswagen', 'Audi', 'Ford', 'Mercedes-Benz', 'Skoda', 'Renault', 'Hyundai', 'BMW', 'Opel', 'SEAT')  \n",
    "    GROUP BY make, offer_type  \n",
    "    ORDER BY make, total_cars_sold DESC;\n"
   ]
  },
  {
   "cell_type": "markdown",
   "id": "c7aef619-6116-41b9-afbf-2acffb3e4abc",
   "metadata": {},
   "source": [
    "    make\toffer_type\ttotal_cars_sold\n",
    "    Audi\tUsed\t289\n",
    "    Audi\tDemonstration\t108\n",
    "    Audi\tEmployee's car\t74\n",
    "    Audi\tPre-registered\t26\n",
    "    \n",
    "    BMW\tUsed\t131\n",
    "    BMW\tEmployee's car\t54\n",
    "    BMW\tDemonstration\t25\n",
    "    BMW\tPre-registered\t1\n",
    "    \n",
    "    Ford\tUsed\t309\n",
    "    Ford\tEmployee's car\t299\n",
    "    Ford\tPre-registered\t193\n",
    "    Ford\tDemonstration\t112\n",
    "    \n",
    "    Hyundai\tPre-registered\t315\n",
    "    Hyundai\tDemonstration\t130\n",
    "    Hyundai\tUsed\t70\n",
    "    Hyundai\tEmployee's car\t12\n",
    "    Hyundai\tNew\t1\n",
    "    \n",
    "    Mercedes-Benz\tDemonstration\t151\n",
    "    Mercedes-Benz\tEmployee's car\t101\n",
    "    Mercedes-Benz\tUsed\t67\n",
    "    Mercedes-Benz\tPre-registered\t4\n",
    "    \n",
    "    Opel\tUsed\t239\n",
    "    Opel\tPre-registered\t132\n",
    "    Opel\tDemonstration\t71\n",
    "    Opel\tEmployee's car\t63\n",
    "    \n",
    "    Renault\tDemonstration\t257\n",
    "    Renault\tUsed\t243\n",
    "    Renault\tPre-registered\t147\n",
    "    Renault\tEmployee's car\t4\n",
    "    \n",
    "    SEAT\tPre-registered\t147\n",
    "    SEAT\tUsed\t110\n",
    "    SEAT\tDemonstration\t87\n",
    "    SEAT\tEmployee's car\t16\n",
    "    SEAT\tNew\t6\n",
    "    \n",
    "    Skoda\tPre-registered\t306\n",
    "    Skoda\tUsed\t179\n",
    "    Skoda\tDemonstration\t137\n",
    "    Skoda\tEmployee's car\t74\n",
    "    Skoda\tNew\t2\n",
    "    \n",
    "    Volkswagen\tUsed\t510\n",
    "    Volkswagen\tDemonstration\t219\n",
    "    Volkswagen\tEmployee's car\t201\n",
    "    Volkswagen\tPre-registered\t137"
   ]
  },
  {
   "cell_type": "markdown",
   "id": "343142a1-7a1e-4d93-bfd2-8b75b45fb945",
   "metadata": {},
   "source": [
    "### Which Gear Make The Most For Cars Sold ?\n"
   ]
  },
  {
   "cell_type": "markdown",
   "id": "d41a7b23-9d67-4dc5-8cd8-f8815eb8c6ae",
   "metadata": {},
   "source": [
    "    SELECT  \n",
    "        gear,  \n",
    "        COUNT(*) AS total_cars_sold  \n",
    "    FROM car_post_process  \n",
    "    GROUP BY gear  \n",
    "    ORDER BY total_cars_sold DESC;\n"
   ]
  },
  {
   "cell_type": "markdown",
   "id": "1158e293-e9c6-48a3-9398-67120cd2001f",
   "metadata": {},
   "source": [
    "![geartype](img/geartype.png)"
   ]
  },
  {
   "cell_type": "markdown",
   "id": "bdf8c93a-20e5-4220-a198-69d8dfaa0fde",
   "metadata": {},
   "source": [
    "### Which Gear Make The Most For Cars Sold By Each Brand?\n"
   ]
  },
  {
   "cell_type": "markdown",
   "id": "b6f0661d-2fab-45e8-901a-5f59cc22fc1c",
   "metadata": {},
   "source": [
    "    SELECT  \n",
    "        make,  \n",
    "        gear,  \n",
    "        COUNT(*) AS total_cars_sold  \n",
    "    FROM car_post_process  \n",
    "    WHERE make IN ('Volkswagen', 'Audi', 'Ford', 'Mercedes-Benz', 'Skoda', 'Renault', 'Hyundai', 'BMW', 'Opel', 'SEAT')  \n",
    "    GROUP BY make, gear  \n",
    "    ORDER BY make, total_cars_sold DESC;\n"
   ]
  },
  {
   "cell_type": "markdown",
   "id": "2da7049e-7fc1-4cc2-b855-da92637cce25",
   "metadata": {},
   "source": [
    "    make\tgear\ttotal_cars_sold\n",
    "    Audi\tAutomatic\t443\n",
    "    Audi\tManual\t54\n",
    "    \n",
    "    BMW\tAutomatic\t198\n",
    "    BMW\tManual\t13\n",
    "    \n",
    "    Ford\tManual\t582\n",
    "    Ford\tAutomatic\t331\n",
    "    \n",
    "    Hyundai\tManual\t313\n",
    "    Hyundai\tAutomatic\t215\n",
    "    \n",
    "    Mercedes-Benz\tAutomatic\t295\n",
    "    Mercedes-Benz\tManual\t28\n",
    "    \n",
    "    Opel\tManual\t334\n",
    "    Opel\tAutomatic\t171\n",
    "    \n",
    "    Renault\tManual\t403\n",
    "    Renault\tAutomatic\t248\n",
    "    \n",
    "    SEAT\tManual\t188\n",
    "    SEAT\tAutomatic\t178\n",
    "    \n",
    "    Skoda\tManual\t426\n",
    "    Skoda\tAutomatic\t272\n",
    "    \n",
    "    Volkswagen\tAutomatic\t651\n",
    "    Volkswagen\tManual\t416"
   ]
  },
  {
   "cell_type": "markdown",
   "id": "68351151-922c-4a2b-a333-adf70e68441a",
   "metadata": {},
   "source": [
    "## Visualization"
   ]
  },
  {
   "cell_type": "markdown",
   "id": "46dd1cdf-ce99-46b9-b056-6963e063578c",
   "metadata": {},
   "source": [
    "    Used Power BI To Make The Visualizations Which Will Support Our Conclusions"
   ]
  },
  {
   "cell_type": "markdown",
   "id": "b812c4c7-00d3-499e-b66a-996d2de5f2dc",
   "metadata": {},
   "source": [
    "![dash1](https://drive.google.com/file/d/1B7F63My02TjoLYBKkQ5VqayCgoxqvyE2/view)"
   ]
  },
  {
   "cell_type": "markdown",
   "id": "d23409ba-1497-4ee8-92a8-a6652e5aa7d6",
   "metadata": {},
   "source": [
    "    Base On Queries Result And Graphs Provided We Found That :\n",
    "        The Leading Car Brand From 2018 To 2021 Was :\n",
    "            Volkswagen  Making Up To 13.78% From The Market Revenu \n",
    "            and The Most Saled Model Was GolF"
   ]
  },
  {
   "cell_type": "markdown",
   "id": "ddff9028-4db0-4d11-b30f-a7296a48839a",
   "metadata": {},
   "source": [
    "-    We Noticed That Even Ford Sold More Cars Than Audi But Audi Have A Bigger Share In Markt Revenue We Can\n",
    "      Explain That By Considring Audi As Premium Car Brand Which Can Effect The Prices For Each Car\n",
    "      We Can Apply The Same Principle For Skoda and Renault"
   ]
  },
  {
   "cell_type": "markdown",
   "id": "139b3f46-67ab-453c-942f-71888e446b3d",
   "metadata": {},
   "source": [
    "-    We Noticed That Even BMW , Mercedes-Benz And Audi Are German Car Brands There Sales Fall Back By\n",
    "     Comparise Them With  Other Foreign Car Brands Like Ford , Skoda ,Renault For Reasons I will Explain Later"
   ]
  },
  {
   "cell_type": "markdown",
   "id": "94d18262-bcae-4831-b234-f8e9bbbcdc15",
   "metadata": {},
   "source": [
    "![dash2](https://raw.githubusercontent.com/fawzi177/repo/main/img/dash2.png)"
   ]
  },
  {
   "cell_type": "markdown",
   "id": "9e268a71-8a60-4e6b-b49e-beef78631d42",
   "metadata": {},
   "source": [
    "- We Noticed That The Types Of Gear For Cars Sold are Divided Semi-equal For Each Manual and\n",
    "  Automatic With Very Little To None In Semi-automatic"
   ]
  },
  {
   "cell_type": "markdown",
   "id": "02f1f277-0d93-44fd-b655-cee9afed1323",
   "metadata": {},
   "source": [
    "- We Noticed That German Cars Brand Like Audi , BMW , Mercedes Benz Were Sold Automatic Cars More Than Manual\n",
    "But The Most Sold Cars Brands Sold More Cars With Manual Than Automatic\n"
   ]
  },
  {
   "cell_type": "markdown",
   "id": "e5d15705-6b70-42d0-8c1e-3c60f07a046d",
   "metadata": {},
   "source": [
    "- We Noticed in Offer Type Chart The The Shares are divided Semi-equal For Each Offer Except New Cars\n",
    "  We Can Explain That With The Price - The Price For Used Car Always is lesser Than The New Car Even For The\n",
    "  Same Model"
   ]
  },
  {
   "cell_type": "markdown",
   "id": "911c13ce-0c96-4f79-995e-8088f6ae33c7",
   "metadata": {},
   "source": [
    "### Studying The Most Sold Car Modle : Volkswagen Golf"
   ]
  },
  {
   "cell_type": "markdown",
   "id": "babff986-5a0f-4485-9648-fb11422535fa",
   "metadata": {},
   "source": [
    "by Showing The Technical Sheet For Golf Cars :\n",
    "https://newspress-vwusamedia.s3.amazonaws.com/documents%2Foriginal%2F8689-2018VolkswagenGolfTechnicalSpecifications.pdf"
   ]
  },
  {
   "cell_type": "markdown",
   "id": "09937697-1801-436d-b075-0b9bf1a32746",
   "metadata": {},
   "source": [
    "1. Volkswagen’s Strong Presence in Germany\n",
    "Volkswagen (VW) is a German automaker with deep roots in the country. The brand is associated with reliability, engineering excellence, and strong national loyalty. Many German buyers prefer Volkswagen models, including the Golf, due to trust in domestic brands.\n",
    "\n",
    "2. Ideal for German Driving Conditions\n",
    "The Volkswagen Golf is known for its fuel efficiency, making it a great choice for both city driving and the Autobahn.\n",
    "It comes in multiple engine configurations (petrol, diesel, hybrid, and electric), offering options for different driving preferences.\n",
    "It balances compact size for urban use with enough interior space for comfort.\n",
    "3. Popularity in the Company Car Market\n",
    "Many German companies provide employees with Volkswagen Golf models as company cars.\n",
    "The Golf’s reputation for efficiency, safety, and resale value makes it a preferred choice for fleet purchases.\n",
    "4. German Driving Culture and Practicality\n",
    "German consumers favor hatchbacks over sedans, as they offer a mix of space, performance, and practicality.\n",
    "The Golf GTI and Golf R versions provide sporty performance while still being practical for daily use.\n",
    "5. Strong Resale Value & Longevity\n",
    "The Golf has a high resale value in Germany, making it a solid long-term investment.\n",
    "Volkswagen models, especially the Golf, are durable and have a strong aftermarket support network.\n"
   ]
  },
  {
   "cell_type": "markdown",
   "id": "c4f7e17f-c1d3-47cf-a49d-dfeadfe4786e",
   "metadata": {},
   "source": [
    "### Final Thoughts"
   ]
  },
  {
   "cell_type": "markdown",
   "id": "91bf97f6-8f5e-453a-8090-f42b828d9d70",
   "metadata": {},
   "source": [
    "Customers Are Always Looking For Cars Thats Give Them Best Values For There Money\n",
    "By Providing Cars with Competitive Price & Features  while still maintaining high-quality engineering. Advanced safety features, technology upgrades, and driver assistance systems to  make them appealing to a wide range of Buyers."
   ]
  },
  {
   "cell_type": "markdown",
   "id": "8471f719-583f-44ee-9f28-5c8ba4908257",
   "metadata": {},
   "source": []
  },
  {
   "cell_type": "markdown",
   "id": "6d4d0e9b-48f7-4b9a-9091-fe653d613b10",
   "metadata": {},
   "source": [
    "### Author :\n"
   ]
  },
  {
   "cell_type": "markdown",
   "id": "0c613f7e-4496-4d6a-9c77-69434e2299f5",
   "metadata": {},
   "source": [
    "Fawzi Jabbour"
   ]
  },
  {
   "cell_type": "code",
   "execution_count": null,
   "id": "833602f5-67d7-41a9-8c53-5220eb6561f8",
   "metadata": {},
   "outputs": [],
   "source": []
  }
 ],
 "metadata": {
  "kernelspec": {
   "display_name": "Python 3 (ipykernel)",
   "language": "python",
   "name": "python3"
  },
  "language_info": {
   "codemirror_mode": {
    "name": "ipython",
    "version": 3
   },
   "file_extension": ".py",
   "mimetype": "text/x-python",
   "name": "python",
   "nbconvert_exporter": "python",
   "pygments_lexer": "ipython3",
   "version": "3.12.4"
  }
 },
 "nbformat": 4,
 "nbformat_minor": 5
}
